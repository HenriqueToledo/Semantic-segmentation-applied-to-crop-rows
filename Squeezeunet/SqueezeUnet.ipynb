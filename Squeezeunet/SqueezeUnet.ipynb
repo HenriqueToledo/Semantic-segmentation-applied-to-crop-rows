{
 "cells": [
  {
   "cell_type": "code",
   "execution_count": null,
   "metadata": {},
   "outputs": [],
   "source": [
    "import tensorflow as tf\n",
    "from skimage.io import imread, imshow\n",
    "from skimage.transform import resize\n",
    "import matplotlib.pyplot as plt\n",
    "import numpy as np\n",
    "import time\n",
    "import glob \n",
    "import random"
   ]
  },
  {
   "cell_type": "code",
   "execution_count": null,
   "metadata": {},
   "outputs": [],
   "source": [
    "img_width = 240\n",
    "img_height = 240\n",
    "img_channels = 3\n",
    "number_of_init_filters = 16\n",
    "train_input_path = '../Train_dataset/*.JPG'\n",
    "train_output_path = '../Ground_truth_digital/*.JPG'\n",
    "test_input_path = '../Test_dataset/*.JPG'\n",
    "test_expected_output = '../Test_dataset_ground_truth/*.JPG'\n",
    "test_compare_output = '../Test_compare_dataset/*.png'"
   ]
  },
  {
   "cell_type": "code",
   "execution_count": null,
   "metadata": {
    "scrolled": true
   },
   "outputs": [],
   "source": [
    "img_list_X_train = sorted(glob.glob(train_input_path))\n",
    "X_train = np.zeros((len(img_list_X_train), img_height, img_width, img_channels), dtype=np.uint8)\n",
    "for i, img_path in enumerate(img_list_X_train):\n",
    "    # read image\n",
    "    img_train = imread(img_path)\n",
    "    img_train = resize(img_train, (img_height, img_width, img_channels), mode='constant', preserve_range='True')\n",
    "    X_train[i] = img_train"
   ]
  },
  {
   "cell_type": "code",
   "execution_count": null,
   "metadata": {},
   "outputs": [],
   "source": [
    "img_list_y_train = sorted(glob.glob(train_output_path))\n",
    "y_train = np.zeros((len(img_list_y_train), img_height, img_width, 1), dtype=np.bool)\n",
    "for i, img_path in enumerate(img_list_y_train):\n",
    "    # read image\n",
    "    img_train = imread(img_path)\n",
    "    img_train = resize(img_train, (img_height, img_width, 1), mode='constant', preserve_range='True')\n",
    "    y_train[i] = img_train"
   ]
  },
  {
   "cell_type": "code",
   "execution_count": null,
   "metadata": {},
   "outputs": [],
   "source": [
    "#Testing images input\n",
    "#X_test = np.zeros((len(test_id), img_height, img_width, img_channels), dtype=np.uint8)\n",
    "\n",
    "img_list_X_test = sorted(glob.glob(test_input_path))\n",
    "X_test = np.zeros((len(img_list_X_test), img_height, img_width, img_channels), dtype=np.uint8)\n",
    "for i, img_path in enumerate(img_list_X_test):\n",
    "    # read image\n",
    "    img_test = imread(img_path)\n",
    "    img_test = resize(img_test, (img_height, img_width, img_channels), mode='constant', preserve_range='True')\n",
    "    X_test[i] = img_test"
   ]
  },
  {
   "cell_type": "code",
   "execution_count": null,
   "metadata": {},
   "outputs": [],
   "source": [
    "#Testing images output comparation ExG\n",
    "\n",
    "img_list_y_test_compare = sorted(glob.glob(test_compare_output))\n",
    "y_test_compare = np.zeros((len(img_list_y_test_compare), img_height, img_width, 1), dtype=np.bool)\n",
    "for i, img_path in enumerate(img_list_y_test_compare):\n",
    "    # read image\n",
    "    img_test = imread(img_path)\n",
    "    img_test = resize(img_test, (img_height, img_width, 1), mode='constant', preserve_range='True')\n",
    "    y_test_compare[i] = img_test"
   ]
  },
  {
   "cell_type": "code",
   "execution_count": null,
   "metadata": {},
   "outputs": [],
   "source": [
    "#Testing images \n",
    "\n",
    "img_list_y_test = sorted(glob.glob(test_expected_output))\n",
    "y_test = np.zeros((len(img_list_y_test), img_height, img_width, 1), dtype=np.bool)\n",
    "for i, img_path in enumerate(img_list_y_test):\n",
    "    # read image\n",
    "    img_test = imread(img_path)\n",
    "    img_test = resize(img_test, (img_height, img_width, 1), mode='constant', preserve_range='True')\n",
    "    y_test[i] = img_test"
   ]
  },
  {
   "cell_type": "code",
   "execution_count": null,
   "metadata": {},
   "outputs": [],
   "source": [
    "#plota uma amostra\n",
    "ix = random.randint(0, len(img_list_X_train))\n",
    "imshow(X_train[ix])\n",
    "plt.show()\n",
    "imshow(np.squeeze(y_train[ix]))\n",
    "plt.show()\n",
    "imshow(np.squeeze(X_test[random.randint(0, len(img_list_X_test)-1)]))\n",
    "plt.show()\n",
    "imshow(y_test[random.randint(0, len(img_list_y_test)-1)])\n",
    "plt.show()\n",
    "imshow(y_test_compare[random.randint(0, len(img_list_y_test_compare)-1)])\n",
    "plt.show()"
   ]
  },
  {
   "cell_type": "code",
   "execution_count": null,
   "metadata": {},
   "outputs": [],
   "source": [
    "inputs = tf.keras.layers.Input(shape=(img_height, img_width, img_channels), name=\"input_image\")\n",
    "s = tf.keras.layers.Lambda(lambda x: x/255)(inputs)"
   ]
  },
  {
   "cell_type": "code",
   "execution_count": null,
   "metadata": {},
   "outputs": [],
   "source": [
    "#Contractional path\n",
    "cv1 = tf.keras.layers.Conv2D(number_of_init_filters*4, (3,3), strides=(1, 1), activation='relu', kernel_initializer='he_normal', padding='same')(s)\n",
    "cv2 = tf.keras.layers.Conv2D(number_of_init_filters*4, (3,3), strides=(1, 1), activation='relu', kernel_initializer='he_normal', padding='same')(cv1)\n",
    "\n",
    "#DS1\n",
    "#fire module 1.1 \n",
    "f1_1 = tf.keras.layers.Conv2D(number_of_init_filters*2, (1,1), activation='relu', kernel_initializer='he_normal', padding='same')(cv2)\n",
    "f1_1l = tf.keras.layers.Conv2D(number_of_init_filters*4, (1,1), activation='relu', kernel_initializer='he_normal', padding='same')(f1_1)\n",
    "f1_1r = tf.keras.layers.Conv2D(number_of_init_filters*4, (3,3), activation='relu', kernel_initializer='he_normal', padding='same')(f1_1)\n",
    "f1_1 = tf.keras.layers.concatenate([f1_1l,f1_1r])\n",
    "\n",
    "#fire module 1.2\n",
    "f1_2 = tf.keras.layers.Conv2D(number_of_init_filters*2, (1,1), activation='relu', kernel_initializer='he_normal', padding='same')(f1_1)\n",
    "f1_2l = tf.keras.layers.Conv2D(number_of_init_filters*4, (1,1), activation='relu', kernel_initializer='he_normal', padding='same')(f1_2)\n",
    "f1_2r = tf.keras.layers.Conv2D(number_of_init_filters*4, (3,3), activation='relu', kernel_initializer='he_normal', padding='same')(f1_2)\n",
    "f1_2 = tf.keras.layers.concatenate([f1_2l,f1_2r])\n",
    "f1_2 = tf.keras.layers.MaxPooling2D(pool_size=(3, 3), strides=(2, 2), name='pool1', padding=\"same\")(f1_2)"
   ]
  },
  {
   "cell_type": "code",
   "execution_count": null,
   "metadata": {},
   "outputs": [],
   "source": [
    "#DS2\n",
    "#fire module 2.1 \n",
    "f2_1 = tf.keras.layers.Conv2D(number_of_init_filters*3, (1,1), activation='relu', kernel_initializer='he_normal', padding='same')(f1_2)\n",
    "f2_1l = tf.keras.layers.Conv2D(number_of_init_filters*8, (1,1), activation='relu', kernel_initializer='he_normal', padding='same')(f2_1)\n",
    "f2_1r = tf.keras.layers.Conv2D(number_of_init_filters*8, (3,3), activation='relu', kernel_initializer='he_normal', padding='same')(f2_1)\n",
    "f2_1 = tf.keras.layers.concatenate([f2_1l,f2_1r])\n",
    "\n",
    "#fire module 2.2\n",
    "f2_2 = tf.keras.layers.Conv2D(number_of_init_filters*3, (1,1), activation='relu', kernel_initializer='he_normal', padding='same')(f2_1)\n",
    "f2_2l = tf.keras.layers.Conv2D(number_of_init_filters*8, (1,1), activation='relu', kernel_initializer='he_normal', padding='same')(f2_2)\n",
    "f2_2r = tf.keras.layers.Conv2D(number_of_init_filters*8, (3,3), activation='relu', kernel_initializer='he_normal', padding='same')(f2_2)\n",
    "f2_2 = tf.keras.layers.concatenate([f2_2l,f2_2r])\n",
    "f2_2 = tf.keras.layers.MaxPooling2D(pool_size=(3, 3), strides=(2, 2), name='pool2', padding=\"same\")(f2_2)"
   ]
  },
  {
   "cell_type": "code",
   "execution_count": null,
   "metadata": {},
   "outputs": [],
   "source": [
    "#DS3\n",
    "#fire module 3.1 \n",
    "f3_1 = tf.keras.layers.Conv2D(number_of_init_filters*4, (1,1), activation='relu', kernel_initializer='he_normal', padding='same')(f2_2)\n",
    "f3_1l = tf.keras.layers.Conv2D(number_of_init_filters*16, (1,1), activation='relu', kernel_initializer='he_normal', padding='same')(f3_1)\n",
    "f3_1r = tf.keras.layers.Conv2D(number_of_init_filters*16, (3,3), activation='relu', kernel_initializer='he_normal', padding='same')(f3_1)\n",
    "f3_1 = tf.keras.layers.concatenate([f3_1l,f3_1r])\n",
    "\n",
    "#fire module 3.2\n",
    "f3_2 = tf.keras.layers.Conv2D(number_of_init_filters*4, (1,1), activation='relu', kernel_initializer='he_normal', padding='same')(f3_1)\n",
    "f3_2l = tf.keras.layers.Conv2D(number_of_init_filters*16, (1,1), activation='relu', kernel_initializer='he_normal', padding='same')(f3_2)\n",
    "f3_2r = tf.keras.layers.Conv2D(number_of_init_filters*16, (3,3), activation='relu', kernel_initializer='he_normal', padding='same')(f3_2)\n",
    "f3_2 = tf.keras.layers.concatenate([f3_2l,f3_2r])\n",
    "f3_2 = tf.keras.layers.MaxPooling2D(pool_size=(3, 3), strides=(2, 2), name='pool3', padding=\"same\")(f3_2)"
   ]
  },
  {
   "cell_type": "code",
   "execution_count": null,
   "metadata": {},
   "outputs": [],
   "source": [
    "#DS4\n",
    "#fire module 4.1 \n",
    "f4_1 = tf.keras.layers.Conv2D(number_of_init_filters*5, (1,1), activation='relu', kernel_initializer='he_normal', padding='same')(f3_2)\n",
    "f4_1l = tf.keras.layers.Conv2D(number_of_init_filters*32, (1,1), activation='relu', kernel_initializer='he_normal', padding='same')(f4_1)\n",
    "f4_1r = tf.keras.layers.Conv2D(number_of_init_filters*32, (3,3), activation='relu', kernel_initializer='he_normal', padding='same')(f4_1)\n",
    "f4_1 = tf.keras.layers.concatenate([f4_1l,f4_1r])\n",
    "\n",
    "#fire module 4.2\n",
    "f4_2 = tf.keras.layers.Conv2D(number_of_init_filters*5, (1,1), activation='relu', kernel_initializer='he_normal', padding='same')(f4_1)\n",
    "f4_2l = tf.keras.layers.Conv2D(number_of_init_filters*32, (1,1), activation='relu', kernel_initializer='he_normal', padding='same')(f4_2)\n",
    "f4_2r = tf.keras.layers.Conv2D(number_of_init_filters*32, (3,3), activation='relu', kernel_initializer='he_normal', padding='same')(f4_2)\n",
    "f4_2 = tf.keras.layers.concatenate([f4_2l,f4_2r])\n",
    "f4_2 = tf.keras.layers.Dropout(0.5)(f4_2)"
   ]
  },
  {
   "cell_type": "code",
   "execution_count": null,
   "metadata": {},
   "outputs": [],
   "source": [
    "#US1\n",
    "#Transposed fire module\n",
    "tf1_1 = tf.keras.layers.Conv2DTranspose(number_of_init_filters*5, (1,1), strides=(1,1), padding='same', activation='relu')(f4_2)\n",
    "tf1_1l = tf.keras.layers.Conv2DTranspose(number_of_init_filters*16, (1,1), strides=(1,1), padding='same', activation='relu')(tf1_1)\n",
    "tf1_1r = tf.keras.layers.Conv2DTranspose(number_of_init_filters*16, (2,2), strides=(1,1), padding='same', activation='relu')(tf1_1)\n",
    "tf1_1 = tf.keras.layers.concatenate([tf1_1l,tf1_1r])\n",
    "tf1_1 = tf.keras.layers.concatenate([tf1_1,f3_2])\n",
    "\n",
    "#fire module 5.1 \n",
    "f5_1 = tf.keras.layers.Conv2D(number_of_init_filters*4, (1,1), activation='relu', kernel_initializer='he_normal', padding='same')(tf1_1)\n",
    "f5_1l = tf.keras.layers.Conv2D(number_of_init_filters*16, (1,1), activation='relu', kernel_initializer='he_normal', padding='same')(f5_1)\n",
    "f5_1r = tf.keras.layers.Conv2D(number_of_init_filters*16, (3,3), activation='relu', kernel_initializer='he_normal', padding='same')(f5_1)\n",
    "f5_1 = tf.keras.layers.concatenate([f5_1l,f5_1r])\n",
    "\n",
    "#fire module 5.2\n",
    "f5_2 = tf.keras.layers.Conv2D(number_of_init_filters*4, (1,1), activation='relu', kernel_initializer='he_normal', padding='same')(f5_1)\n",
    "f5_2l = tf.keras.layers.Conv2D(number_of_init_filters*16, (1,1), activation='relu', kernel_initializer='he_normal', padding='same')(f5_2)\n",
    "f5_2r = tf.keras.layers.Conv2D(number_of_init_filters*16, (3,3), activation='relu', kernel_initializer='he_normal', padding='same')(f5_2)\n",
    "f5_2 = tf.keras.layers.concatenate([f5_2l,f5_2r])"
   ]
  },
  {
   "cell_type": "code",
   "execution_count": null,
   "metadata": {
    "scrolled": true
   },
   "outputs": [],
   "source": [
    "#US2\n",
    "#Transposed fire module\n",
    "tf2_1 = tf.keras.layers.Conv2DTranspose(number_of_init_filters*4, (1,1), strides=(2,2), padding='same', activation='relu')(f5_2)\n",
    "tf2_1l = tf.keras.layers.Conv2DTranspose(number_of_init_filters*8, (1,1), strides=(1,1), padding='same', activation='relu')(tf2_1)\n",
    "tf2_1r = tf.keras.layers.Conv2DTranspose(number_of_init_filters*8, (2,2), strides=(1,1), padding='same', activation='relu')(tf2_1)\n",
    "tf2_1 = tf.keras.layers.concatenate([tf2_1l,tf2_1r])\n",
    "tf2_1 = tf.keras.layers.concatenate([tf2_1,f2_2])\n",
    "\n",
    "#fire module 6.1 \n",
    "f6_1 = tf.keras.layers.Conv2D(number_of_init_filters*3, (1,1), activation='relu', kernel_initializer='he_normal', padding='same')(tf2_1)\n",
    "f6_1l = tf.keras.layers.Conv2D(number_of_init_filters*8, (1,1), activation='relu', kernel_initializer='he_normal', padding='same')(f6_1)\n",
    "f6_1r = tf.keras.layers.Conv2D(number_of_init_filters*8, (3,3), activation='relu', kernel_initializer='he_normal', padding='same')(f6_1)\n",
    "f6_1 = tf.keras.layers.concatenate([f6_1l,f6_1r])\n",
    "\n",
    "#fire module 6.2\n",
    "f6_2 = tf.keras.layers.Conv2D(number_of_init_filters*3, (1,1), activation='relu', kernel_initializer='he_normal', padding='same')(f6_1)\n",
    "f6_2l = tf.keras.layers.Conv2D(number_of_init_filters*8, (1,1), activation='relu', kernel_initializer='he_normal', padding='same')(f6_2)\n",
    "f6_2r = tf.keras.layers.Conv2D(number_of_init_filters*8, (3,3), activation='relu', kernel_initializer='he_normal', padding='same')(f6_2)\n",
    "f6_2 = tf.keras.layers.concatenate([f6_2l,f6_2r])"
   ]
  },
  {
   "cell_type": "code",
   "execution_count": null,
   "metadata": {},
   "outputs": [],
   "source": [
    "#US3\n",
    "#Transposed fire module\n",
    "tf3_1 = tf.keras.layers.Conv2DTranspose(number_of_init_filters*3, (1,1), strides=(2,2), padding='same', activation='relu')(f6_2)\n",
    "tf3_1l = tf.keras.layers.Conv2DTranspose(number_of_init_filters*4, (1,1), strides=(1,1), padding='same', activation='relu')(tf3_1)\n",
    "tf3_1r = tf.keras.layers.Conv2DTranspose(number_of_init_filters*4, (2,2), strides=(1,1), padding='same', activation='relu')(tf3_1)\n",
    "tf3_1 = tf.keras.layers.concatenate([tf3_1l,tf3_1r])\n",
    "tf3_1 = tf.keras.layers.concatenate([tf3_1,f1_2])\n",
    "\n",
    "#fire module 6.1 \n",
    "f7_1 = tf.keras.layers.Conv2D(number_of_init_filters*2, (1,1), activation='relu', kernel_initializer='he_normal', padding='same')(tf3_1)\n",
    "f7_1l = tf.keras.layers.Conv2D(number_of_init_filters*4, (1,1), activation='relu', kernel_initializer='he_normal', padding='same')(f7_1)\n",
    "f7_1r = tf.keras.layers.Conv2D(number_of_init_filters*4, (3,3), activation='relu', kernel_initializer='he_normal', padding='same')(f7_1)\n",
    "f7_1 = tf.keras.layers.concatenate([f7_1l,f7_1r])\n",
    "\n",
    "#fire module 6.2\n",
    "f7_2 = tf.keras.layers.Conv2D(number_of_init_filters*2, (1,1), activation='relu', kernel_initializer='he_normal', padding='same')(f7_1)\n",
    "f7_2l = tf.keras.layers.Conv2D(number_of_init_filters*4, (1,1), activation='relu', kernel_initializer='he_normal', padding='same')(f7_2)\n",
    "f7_2r = tf.keras.layers.Conv2D(number_of_init_filters*4, (3,3), activation='relu', kernel_initializer='he_normal', padding='same')(f7_2)\n",
    "f7_2 = tf.keras.layers.concatenate([f7_2l,f7_2r])"
   ]
  },
  {
   "cell_type": "code",
   "execution_count": null,
   "metadata": {},
   "outputs": [],
   "source": [
    "t9 = tf.keras.layers.Conv2DTranspose(number_of_init_filters*4, (2,2), strides=(2,2), padding='same', activation='relu')(f7_2)\n",
    "c1 = tf.keras.layers.concatenate([t9,cv2])\n",
    "cv3 = tf.keras.layers.Conv2D(number_of_init_filters*4, (3,3), activation='relu', kernel_initializer='he_normal', padding='same')(c1)\n",
    "cv4 = tf.keras.layers.Conv2D(number_of_init_filters*4, (3,3), activation='relu', kernel_initializer='he_normal', padding='same')(cv3)"
   ]
  },
  {
   "cell_type": "code",
   "execution_count": null,
   "metadata": {},
   "outputs": [],
   "source": [
    "outputs = tf.keras.layers.Conv2D(1, (1,1), activation='sigmoid')(cv4)"
   ]
  },
  {
   "cell_type": "code",
   "execution_count": null,
   "metadata": {},
   "outputs": [],
   "source": [
    "model = tf.keras.Model(inputs=[inputs], outputs=[outputs])\n",
    "model.compile(optimizer='adam', loss='binary_crossentropy', metrics=['accuracy'])\n",
    "model.summary()"
   ]
  },
  {
   "cell_type": "code",
   "execution_count": null,
   "metadata": {},
   "outputs": [],
   "source": [
    "#Model checkpoint\n",
    "checkpointer = tf.keras.callbacks.ModelCheckpoint('model_for_nuclei.h5', verbose=1, save_best_only=True)\n",
    "\n",
    "name = \"SqueezeUnet-{}\".format(int(time.time()))\n",
    "callbacks = [ \n",
    "        tf.keras.callbacks.EarlyStopping(patience=3),\n",
    "        tf.keras.callbacks.TensorBoard(log_dir='tensorboard/{}'.format(name))]\n",
    "\n",
    "results = model.fit(X_train, y_train, validation_split=0.1, batch_size=4, epochs=20, callbacks=callbacks)"
   ]
  },
  {
   "cell_type": "code",
   "execution_count": null,
   "metadata": {},
   "outputs": [],
   "source": [
    "model.save(\"SqueezeUnet.h5\")"
   ]
  },
  {
   "cell_type": "code",
   "execution_count": null,
   "metadata": {},
   "outputs": [],
   "source": [
    "preds_train = model.predict(X_train[:int(X_train.shape[0]*0.9)], verbose=1)\n",
    "preds_val = model.predict(X_train[int(X_train.shape[0]*0.9):], verbose=1)\n",
    "preds_test = model.predict(X_test, verbose=1)"
   ]
  },
  {
   "cell_type": "code",
   "execution_count": null,
   "metadata": {},
   "outputs": [],
   "source": [
    "preds_train_t = (preds_train >0.5).astype(np.uint8)\n",
    "preds_val_t = (preds_val >0.5).astype(np.uint8)\n",
    "preds_test_t = (preds_test >0.5).astype(np.bool)"
   ]
  },
  {
   "cell_type": "code",
   "execution_count": null,
   "metadata": {},
   "outputs": [],
   "source": [
    "idx = random.randint(0, len(preds_test_t)-1)\n",
    "imshow(X_test[idx])\n",
    "plt.show()\n",
    "imshow(preds_test_t[idx])\n",
    "plt.show()\n",
    "imshow(y_test[idx])\n",
    "plt.show()\n",
    "imshow(y_test_compare[idx])\n",
    "plt.show()"
   ]
  }
 ],
 "metadata": {
  "kernelspec": {
   "display_name": "Python 3",
   "language": "python",
   "name": "python3"
  },
  "language_info": {
   "codemirror_mode": {
    "name": "ipython",
    "version": 3
   },
   "file_extension": ".py",
   "mimetype": "text/x-python",
   "name": "python",
   "nbconvert_exporter": "python",
   "pygments_lexer": "ipython3",
   "version": "3.8.3"
  }
 },
 "nbformat": 4,
 "nbformat_minor": 4
}
